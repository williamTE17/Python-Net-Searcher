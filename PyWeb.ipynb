{
 "cells": [
  {
   "cell_type": "code",
   "execution_count": 11,
   "metadata": {
    "collapsed": true
   },
   "outputs": [
    {
     "name": "stdout",
     "output_type": "stream",
     "text": [
      "----Web Search Engine With Python----\n",
      "\n",
      "\n",
      "\n",
      "search for: ABC\n"
     ]
    },
    {
     "data": {
      "text/plain": [
       "True"
      ]
     },
     "execution_count": 11,
     "metadata": {},
     "output_type": "execute_result"
    }
   ],
   "source": [
    "# Extremely simple web browser in python.\n",
    "import webbrowser as wb\n",
    "\n",
    "\n",
    "# a bit more ocmplex\n",
    "# with keywords, selectors, etc.\n",
    "print(\"----Web Search Engine With Python----\\n\\n\\n\")\n",
    "\n",
    "\n",
    "# some stuff to help you get started\n",
    "\n",
    "\n",
    "# Search the web for diff.\n",
    "# Programming langs.\n",
    "################################\n",
    "index_name = {                 #\n",
    "    'A':'Python',              #\n",
    "    'B':'Assemble',            #\n",
    "    'C':'Python',              #\n",
    "    'D':'Java',                #\n",
    "    'E':'C',                   #\n",
    "    'F':'C++',                 #\n",
    "    'G':'C#',                  #\n",
    "    'H':'',                    #\n",
    "    'I':'',                    #\n",
    "    'J':''                     #\n",
    "}                              #\n",
    "################################\n",
    "\n",
    "# usr input what to search for\n",
    "Search_Query=input(\"search for: \")\n",
    "\n",
    "# duckduckgo for the privacy concerned\n",
    "wb.open(\"www.duckduckgo.com/?q=\"+Search_Query)\n",
    "\n",
    "# if you want google instead- uncomment this line:\n",
    "#wb.open(\"www.google.com/?q=\"+Search_Query)\n",
    "\n",
    "##### example showing the use of index #####\n",
    "\n",
    "# search the web for \"Python\" (from the index, 'A')\n",
    "wb.open(\"www.duckduckgo.com/?q=\"+index_name['A'])"
   ]
  },
  {
   "cell_type": "code",
   "execution_count": null,
   "metadata": {},
   "outputs": [],
   "source": []
  },
  {
   "cell_type": "code",
   "execution_count": null,
   "metadata": {},
   "outputs": [],
   "source": []
  },
  {
   "cell_type": "code",
   "execution_count": null,
   "metadata": {},
   "outputs": [],
   "source": []
  }
 ],
 "metadata": {
  "kernelspec": {
   "display_name": "Python 3",
   "language": "python",
   "name": "python3"
  },
  "language_info": {
   "codemirror_mode": {
    "name": "ipython",
    "version": 3
   },
   "file_extension": ".py",
   "mimetype": "text/x-python",
   "name": "python",
   "nbconvert_exporter": "python",
   "pygments_lexer": "ipython3",
   "version": "3.7.3"
  }
 },
 "nbformat": 4,
 "nbformat_minor": 2
}
